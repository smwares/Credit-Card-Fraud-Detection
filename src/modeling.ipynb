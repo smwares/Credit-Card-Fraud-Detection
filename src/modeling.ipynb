{
  "nbformat": 4,
  "nbformat_minor": 0,
  "metadata": {
    "colab": {
      "provenance": [],
      "authorship_tag": "ABX9TyM6r+uGvOG3+t3iKs9YEiiI",
      "include_colab_link": true
    },
    "kernelspec": {
      "name": "python3",
      "display_name": "Python 3"
    },
    "language_info": {
      "name": "python"
    }
  },
  "cells": [
    {
      "cell_type": "markdown",
      "metadata": {
        "id": "view-in-github",
        "colab_type": "text"
      },
      "source": [
        "<a href=\"https://colab.research.google.com/github/fursuf1/Credit-Card-Fraud-Detection/blob/main/src/modeling.ipynb\" target=\"_parent\"><img src=\"https://colab.research.google.com/assets/colab-badge.svg\" alt=\"Open In Colab\"/></a>"
      ]
    },
    {
      "cell_type": "code",
      "source": [
        "# Install the library required for uploading to and downloading from Colab\n",
        "!pip install opendatasets\n",
        "!pip install kaggle"
      ],
      "metadata": {
        "colab": {
          "base_uri": "https://localhost:8080/"
        },
        "id": "segaOfcJ6Ekb",
        "outputId": "87540271-9788-4b35-8d44-cf20c44256d3"
      },
      "execution_count": 1,
      "outputs": [
        {
          "output_type": "stream",
          "name": "stdout",
          "text": [
            "Collecting opendatasets\n",
            "  Downloading opendatasets-0.1.22-py3-none-any.whl (15 kB)\n",
            "Requirement already satisfied: tqdm in /usr/local/lib/python3.10/dist-packages (from opendatasets) (4.66.1)\n",
            "Requirement already satisfied: kaggle in /usr/local/lib/python3.10/dist-packages (from opendatasets) (1.5.16)\n",
            "Requirement already satisfied: click in /usr/local/lib/python3.10/dist-packages (from opendatasets) (8.1.7)\n",
            "Requirement already satisfied: six>=1.10 in /usr/local/lib/python3.10/dist-packages (from kaggle->opendatasets) (1.16.0)\n",
            "Requirement already satisfied: certifi in /usr/local/lib/python3.10/dist-packages (from kaggle->opendatasets) (2023.7.22)\n",
            "Requirement already satisfied: python-dateutil in /usr/local/lib/python3.10/dist-packages (from kaggle->opendatasets) (2.8.2)\n",
            "Requirement already satisfied: requests in /usr/local/lib/python3.10/dist-packages (from kaggle->opendatasets) (2.31.0)\n",
            "Requirement already satisfied: python-slugify in /usr/local/lib/python3.10/dist-packages (from kaggle->opendatasets) (8.0.1)\n",
            "Requirement already satisfied: urllib3 in /usr/local/lib/python3.10/dist-packages (from kaggle->opendatasets) (2.0.4)\n",
            "Requirement already satisfied: bleach in /usr/local/lib/python3.10/dist-packages (from kaggle->opendatasets) (6.0.0)\n",
            "Requirement already satisfied: webencodings in /usr/local/lib/python3.10/dist-packages (from bleach->kaggle->opendatasets) (0.5.1)\n",
            "Requirement already satisfied: text-unidecode>=1.3 in /usr/local/lib/python3.10/dist-packages (from python-slugify->kaggle->opendatasets) (1.3)\n",
            "Requirement already satisfied: charset-normalizer<4,>=2 in /usr/local/lib/python3.10/dist-packages (from requests->kaggle->opendatasets) (3.2.0)\n",
            "Requirement already satisfied: idna<4,>=2.5 in /usr/local/lib/python3.10/dist-packages (from requests->kaggle->opendatasets) (3.4)\n",
            "Installing collected packages: opendatasets\n",
            "Successfully installed opendatasets-0.1.22\n",
            "Requirement already satisfied: kaggle in /usr/local/lib/python3.10/dist-packages (1.5.16)\n",
            "Requirement already satisfied: six>=1.10 in /usr/local/lib/python3.10/dist-packages (from kaggle) (1.16.0)\n",
            "Requirement already satisfied: certifi in /usr/local/lib/python3.10/dist-packages (from kaggle) (2023.7.22)\n",
            "Requirement already satisfied: python-dateutil in /usr/local/lib/python3.10/dist-packages (from kaggle) (2.8.2)\n",
            "Requirement already satisfied: requests in /usr/local/lib/python3.10/dist-packages (from kaggle) (2.31.0)\n",
            "Requirement already satisfied: tqdm in /usr/local/lib/python3.10/dist-packages (from kaggle) (4.66.1)\n",
            "Requirement already satisfied: python-slugify in /usr/local/lib/python3.10/dist-packages (from kaggle) (8.0.1)\n",
            "Requirement already satisfied: urllib3 in /usr/local/lib/python3.10/dist-packages (from kaggle) (2.0.4)\n",
            "Requirement already satisfied: bleach in /usr/local/lib/python3.10/dist-packages (from kaggle) (6.0.0)\n",
            "Requirement already satisfied: webencodings in /usr/local/lib/python3.10/dist-packages (from bleach->kaggle) (0.5.1)\n",
            "Requirement already satisfied: text-unidecode>=1.3 in /usr/local/lib/python3.10/dist-packages (from python-slugify->kaggle) (1.3)\n",
            "Requirement already satisfied: charset-normalizer<4,>=2 in /usr/local/lib/python3.10/dist-packages (from requests->kaggle) (3.2.0)\n",
            "Requirement already satisfied: idna<4,>=2.5 in /usr/local/lib/python3.10/dist-packages (from requests->kaggle) (3.4)\n"
          ]
        }
      ]
    },
    {
      "cell_type": "code",
      "source": [
        "import pandas as pd\n",
        "import numpy as np\n",
        "import matplotlib.pyplot as plt\n",
        "import seaborn as sns\n",
        "import opendatasets as od"
      ],
      "metadata": {
        "id": "QT1nygpTBaLy"
      },
      "execution_count": 2,
      "outputs": []
    },
    {
      "cell_type": "code",
      "source": [
        "# Import the necessary module requred to upload the json file containing the user's Kaggle username and API key\n",
        "from google.colab import files\n",
        "files.upload()"
      ],
      "metadata": {
        "id": "vLg_27tP5rUn"
      },
      "execution_count": null,
      "outputs": []
    },
    {
      "cell_type": "code",
      "source": [
        "# Make the directory necessar to place the Kaggle json credentials file. RUN THIS ONLY ONCE PER SESSION\n",
        "!mkdir -p ~/.kaggle\n",
        "!cp kaggle.json ~/.kaggle/\n",
        "!chmod 600 ~/.kaggle/kaggle.json"
      ],
      "metadata": {
        "id": "kKZnJ4wdEOpK"
      },
      "execution_count": 4,
      "outputs": []
    },
    {
      "cell_type": "code",
      "source": [
        "# Download the CC data set from Kaggle\n",
        "od.download(\"https://www.kaggle.com/datasets/kartik2112/fraud-detection\")"
      ],
      "metadata": {
        "colab": {
          "base_uri": "https://localhost:8080/"
        },
        "id": "VhpqgaWe6cCu",
        "outputId": "be829b99-f681-4539-ca18-792151eef6a0"
      },
      "execution_count": 5,
      "outputs": [
        {
          "output_type": "stream",
          "name": "stdout",
          "text": [
            "Downloading fraud-detection.zip to ./fraud-detection\n"
          ]
        },
        {
          "output_type": "stream",
          "name": "stderr",
          "text": [
            "100%|██████████| 202M/202M [00:08<00:00, 24.7MB/s]\n"
          ]
        },
        {
          "output_type": "stream",
          "name": "stdout",
          "text": [
            "\n"
          ]
        }
      ]
    },
    {
      "cell_type": "code",
      "source": [
        "# Import data as DataFrames\n",
        "fraud_test = pd.read_csv('./fraud-detection/fraudTest.csv', index_col=0)\n",
        "fraud_train = pd.read_csv('./fraud-detection/fraudTrain.csv', index_col=0)"
      ],
      "metadata": {
        "id": "5T4CDMPMBpk0"
      },
      "execution_count": 6,
      "outputs": []
    },
    {
      "cell_type": "code",
      "source": [
        "# Combine the DF's into a single DF\n",
        "fraud_df = pd.concat([fraud_train, fraud_test])"
      ],
      "metadata": {
        "id": "mUUMVgmbuB0w"
      },
      "execution_count": 29,
      "outputs": []
    },
    {
      "cell_type": "code",
      "source": [
        "# Convert columns to date/datetime format where possible\n",
        "fraud_df['trans_date_trans_time'] = pd.to_datetime(fraud_df['trans_date_trans_time'])\n",
        "fraud_df['dob'] = pd.to_datetime(fraud_df['dob'])"
      ],
      "metadata": {
        "id": "0fW8C66dGIGy"
      },
      "execution_count": 30,
      "outputs": []
    },
    {
      "cell_type": "code",
      "source": [
        "# Add a new column with times converted from the Unix time column into datetime format\n",
        "fraud_df['from_unix_time'] = pd.to_datetime(fraud_df['unix_time'], unit='s')"
      ],
      "metadata": {
        "id": "CeeOEEZDISyP"
      },
      "execution_count": 31,
      "outputs": []
    },
    {
      "cell_type": "code",
      "source": [
        "# Create a column with first and last names\n",
        "fraud_df['full_name'] = fraud_df['first'] + ' ' + fraud_df['last']"
      ],
      "metadata": {
        "id": "fUXmBRBORXQz"
      },
      "execution_count": 32,
      "outputs": []
    },
    {
      "cell_type": "code",
      "source": [
        "# Drop the transaction number column as it has no analytical use\n",
        "fraud_df.drop('trans_num', axis=1, inplace=True)"
      ],
      "metadata": {
        "id": "7nj_ovDmR3Yp"
      },
      "execution_count": 33,
      "outputs": []
    },
    {
      "cell_type": "code",
      "source": [
        "# Drop the 'fraud_' from the merchants' names\n",
        "fraud_df['merchant'] = fraud_df['merchant'].str.lstrip('fraud_')"
      ],
      "metadata": {
        "id": "rKIqiVmLVCxK"
      },
      "execution_count": 34,
      "outputs": []
    },
    {
      "cell_type": "code",
      "source": [
        "# Make a list of columns to rearrange the DF\n",
        "rearranged_cols = list(fraud_df.columns)[0:7] + ['full_name'] + list(fraud_df.columns) [7:18] + ['from_unix_time'] + list(fraud_df.columns)[18:21]"
      ],
      "metadata": {
        "id": "J40i_5JgZwJR"
      },
      "execution_count": 35,
      "outputs": []
    },
    {
      "cell_type": "code",
      "source": [
        "# Rearrange the columns\n",
        "fraud_df = fraud_df[rearranged_cols]"
      ],
      "metadata": {
        "id": "is2dlOk3axMh"
      },
      "execution_count": 36,
      "outputs": []
    },
    {
      "cell_type": "code",
      "source": [
        "# Add a column for transaction time in epoch format\n",
        "fraud_df['trans_date_trans_time_unix_time'] = fraud_df['trans_date_trans_time'].astype('int64')//1e9"
      ],
      "metadata": {
        "id": "5iIkOLAnLhX9"
      },
      "execution_count": 37,
      "outputs": []
    },
    {
      "cell_type": "code",
      "source": [
        "# Create columns with hour from date, day from date, weekday from date, and month from date\n",
        "fraud_df['trans_hour'] = fraud_df['trans_date_trans_time'].dt.hour\n",
        "fraud_df['trans_day'] = fraud_df['trans_date_trans_time'].dt.day\n",
        "fraud_df['trans_weekday'] = fraud_df['trans_date_trans_time'].dt.weekday\n",
        "fraud_df['trans_month'] = fraud_df['trans_date_trans_time'].dt.month"
      ],
      "metadata": {
        "id": "uM2cDVLPipZa"
      },
      "execution_count": 38,
      "outputs": []
    },
    {
      "cell_type": "code",
      "source": [
        "fraud_df.describe()"
      ],
      "metadata": {
        "colab": {
          "base_uri": "https://localhost:8080/",
          "height": 320
        },
        "id": "LURyocCakyRO",
        "outputId": "a3898ade-6ad1-4652-df54-b5fcd809456f"
      },
      "execution_count": 39,
      "outputs": [
        {
          "output_type": "execute_result",
          "data": {
            "text/plain": [
              "             cc_num           amt           zip           lat          long  \\\n",
              "count  1.852394e+06  1.852394e+06  1.852394e+06  1.852394e+06  1.852394e+06   \n",
              "mean   4.173860e+17  7.006357e+01  4.881326e+04  3.853931e+01 -9.022783e+01   \n",
              "std    1.309115e+18  1.592540e+02  2.688185e+04  5.071470e+00  1.374789e+01   \n",
              "min    6.041621e+10  1.000000e+00  1.257000e+03  2.002710e+01 -1.656723e+02   \n",
              "25%    1.800429e+14  9.640000e+00  2.623700e+04  3.466890e+01 -9.679800e+01   \n",
              "50%    3.521417e+15  4.745000e+01  4.817400e+04  3.935430e+01 -8.747690e+01   \n",
              "75%    4.642255e+15  8.310000e+01  7.204200e+04  4.194040e+01 -8.015800e+01   \n",
              "max    4.992346e+18  2.894890e+04  9.992100e+04  6.669330e+01 -6.795030e+01   \n",
              "\n",
              "           city_pop     unix_time     merch_lat    merch_long      is_fraud  \\\n",
              "count  1.852394e+06  1.852394e+06  1.852394e+06  1.852394e+06  1.852394e+06   \n",
              "mean   8.864367e+04  1.358674e+09  3.853898e+01 -9.022794e+01  5.210015e-03   \n",
              "std    3.014876e+05  1.819508e+07  5.105604e+00  1.375969e+01  7.199217e-02   \n",
              "min    2.300000e+01  1.325376e+09  1.902742e+01 -1.666716e+02  0.000000e+00   \n",
              "25%    7.410000e+02  1.343017e+09  3.474012e+01 -9.689944e+01  0.000000e+00   \n",
              "50%    2.443000e+03  1.357089e+09  3.936890e+01 -8.744069e+01  0.000000e+00   \n",
              "75%    2.032800e+04  1.374581e+09  4.195626e+01 -8.024511e+01  0.000000e+00   \n",
              "max    2.906700e+06  1.388534e+09  6.751027e+01 -6.695090e+01  1.000000e+00   \n",
              "\n",
              "       trans_date_trans_time_unix_time    trans_hour     trans_day  \\\n",
              "count                     1.852394e+06  1.852394e+06  1.852394e+06   \n",
              "mean                      1.579556e+09  1.280612e+01  1.585076e+01   \n",
              "std                       1.822443e+07  6.815753e+00  8.876245e+00   \n",
              "min                       1.546301e+09  0.000000e+00  1.000000e+00   \n",
              "25%                       1.563855e+09  7.000000e+00  8.000000e+00   \n",
              "50%                       1.577928e+09  1.400000e+01  1.600000e+01   \n",
              "75%                       1.595506e+09  1.900000e+01  2.400000e+01   \n",
              "max                       1.609459e+09  2.300000e+01  3.100000e+01   \n",
              "\n",
              "       trans_weekday   trans_month  \n",
              "count   1.852394e+06  1.852394e+06  \n",
              "mean    2.967456e+00  7.152067e+00  \n",
              "std     2.197983e+00  3.424954e+00  \n",
              "min     0.000000e+00  1.000000e+00  \n",
              "25%     1.000000e+00  4.000000e+00  \n",
              "50%     3.000000e+00  7.000000e+00  \n",
              "75%     5.000000e+00  1.000000e+01  \n",
              "max     6.000000e+00  1.200000e+01  "
            ],
            "text/html": [
              "\n",
              "  <div id=\"df-410f7036-eb3f-45ac-9f0d-40d7277b21e1\" class=\"colab-df-container\">\n",
              "    <div>\n",
              "<style scoped>\n",
              "    .dataframe tbody tr th:only-of-type {\n",
              "        vertical-align: middle;\n",
              "    }\n",
              "\n",
              "    .dataframe tbody tr th {\n",
              "        vertical-align: top;\n",
              "    }\n",
              "\n",
              "    .dataframe thead th {\n",
              "        text-align: right;\n",
              "    }\n",
              "</style>\n",
              "<table border=\"1\" class=\"dataframe\">\n",
              "  <thead>\n",
              "    <tr style=\"text-align: right;\">\n",
              "      <th></th>\n",
              "      <th>cc_num</th>\n",
              "      <th>amt</th>\n",
              "      <th>zip</th>\n",
              "      <th>lat</th>\n",
              "      <th>long</th>\n",
              "      <th>city_pop</th>\n",
              "      <th>unix_time</th>\n",
              "      <th>merch_lat</th>\n",
              "      <th>merch_long</th>\n",
              "      <th>is_fraud</th>\n",
              "      <th>trans_date_trans_time_unix_time</th>\n",
              "      <th>trans_hour</th>\n",
              "      <th>trans_day</th>\n",
              "      <th>trans_weekday</th>\n",
              "      <th>trans_month</th>\n",
              "    </tr>\n",
              "  </thead>\n",
              "  <tbody>\n",
              "    <tr>\n",
              "      <th>count</th>\n",
              "      <td>1.852394e+06</td>\n",
              "      <td>1.852394e+06</td>\n",
              "      <td>1.852394e+06</td>\n",
              "      <td>1.852394e+06</td>\n",
              "      <td>1.852394e+06</td>\n",
              "      <td>1.852394e+06</td>\n",
              "      <td>1.852394e+06</td>\n",
              "      <td>1.852394e+06</td>\n",
              "      <td>1.852394e+06</td>\n",
              "      <td>1.852394e+06</td>\n",
              "      <td>1.852394e+06</td>\n",
              "      <td>1.852394e+06</td>\n",
              "      <td>1.852394e+06</td>\n",
              "      <td>1.852394e+06</td>\n",
              "      <td>1.852394e+06</td>\n",
              "    </tr>\n",
              "    <tr>\n",
              "      <th>mean</th>\n",
              "      <td>4.173860e+17</td>\n",
              "      <td>7.006357e+01</td>\n",
              "      <td>4.881326e+04</td>\n",
              "      <td>3.853931e+01</td>\n",
              "      <td>-9.022783e+01</td>\n",
              "      <td>8.864367e+04</td>\n",
              "      <td>1.358674e+09</td>\n",
              "      <td>3.853898e+01</td>\n",
              "      <td>-9.022794e+01</td>\n",
              "      <td>5.210015e-03</td>\n",
              "      <td>1.579556e+09</td>\n",
              "      <td>1.280612e+01</td>\n",
              "      <td>1.585076e+01</td>\n",
              "      <td>2.967456e+00</td>\n",
              "      <td>7.152067e+00</td>\n",
              "    </tr>\n",
              "    <tr>\n",
              "      <th>std</th>\n",
              "      <td>1.309115e+18</td>\n",
              "      <td>1.592540e+02</td>\n",
              "      <td>2.688185e+04</td>\n",
              "      <td>5.071470e+00</td>\n",
              "      <td>1.374789e+01</td>\n",
              "      <td>3.014876e+05</td>\n",
              "      <td>1.819508e+07</td>\n",
              "      <td>5.105604e+00</td>\n",
              "      <td>1.375969e+01</td>\n",
              "      <td>7.199217e-02</td>\n",
              "      <td>1.822443e+07</td>\n",
              "      <td>6.815753e+00</td>\n",
              "      <td>8.876245e+00</td>\n",
              "      <td>2.197983e+00</td>\n",
              "      <td>3.424954e+00</td>\n",
              "    </tr>\n",
              "    <tr>\n",
              "      <th>min</th>\n",
              "      <td>6.041621e+10</td>\n",
              "      <td>1.000000e+00</td>\n",
              "      <td>1.257000e+03</td>\n",
              "      <td>2.002710e+01</td>\n",
              "      <td>-1.656723e+02</td>\n",
              "      <td>2.300000e+01</td>\n",
              "      <td>1.325376e+09</td>\n",
              "      <td>1.902742e+01</td>\n",
              "      <td>-1.666716e+02</td>\n",
              "      <td>0.000000e+00</td>\n",
              "      <td>1.546301e+09</td>\n",
              "      <td>0.000000e+00</td>\n",
              "      <td>1.000000e+00</td>\n",
              "      <td>0.000000e+00</td>\n",
              "      <td>1.000000e+00</td>\n",
              "    </tr>\n",
              "    <tr>\n",
              "      <th>25%</th>\n",
              "      <td>1.800429e+14</td>\n",
              "      <td>9.640000e+00</td>\n",
              "      <td>2.623700e+04</td>\n",
              "      <td>3.466890e+01</td>\n",
              "      <td>-9.679800e+01</td>\n",
              "      <td>7.410000e+02</td>\n",
              "      <td>1.343017e+09</td>\n",
              "      <td>3.474012e+01</td>\n",
              "      <td>-9.689944e+01</td>\n",
              "      <td>0.000000e+00</td>\n",
              "      <td>1.563855e+09</td>\n",
              "      <td>7.000000e+00</td>\n",
              "      <td>8.000000e+00</td>\n",
              "      <td>1.000000e+00</td>\n",
              "      <td>4.000000e+00</td>\n",
              "    </tr>\n",
              "    <tr>\n",
              "      <th>50%</th>\n",
              "      <td>3.521417e+15</td>\n",
              "      <td>4.745000e+01</td>\n",
              "      <td>4.817400e+04</td>\n",
              "      <td>3.935430e+01</td>\n",
              "      <td>-8.747690e+01</td>\n",
              "      <td>2.443000e+03</td>\n",
              "      <td>1.357089e+09</td>\n",
              "      <td>3.936890e+01</td>\n",
              "      <td>-8.744069e+01</td>\n",
              "      <td>0.000000e+00</td>\n",
              "      <td>1.577928e+09</td>\n",
              "      <td>1.400000e+01</td>\n",
              "      <td>1.600000e+01</td>\n",
              "      <td>3.000000e+00</td>\n",
              "      <td>7.000000e+00</td>\n",
              "    </tr>\n",
              "    <tr>\n",
              "      <th>75%</th>\n",
              "      <td>4.642255e+15</td>\n",
              "      <td>8.310000e+01</td>\n",
              "      <td>7.204200e+04</td>\n",
              "      <td>4.194040e+01</td>\n",
              "      <td>-8.015800e+01</td>\n",
              "      <td>2.032800e+04</td>\n",
              "      <td>1.374581e+09</td>\n",
              "      <td>4.195626e+01</td>\n",
              "      <td>-8.024511e+01</td>\n",
              "      <td>0.000000e+00</td>\n",
              "      <td>1.595506e+09</td>\n",
              "      <td>1.900000e+01</td>\n",
              "      <td>2.400000e+01</td>\n",
              "      <td>5.000000e+00</td>\n",
              "      <td>1.000000e+01</td>\n",
              "    </tr>\n",
              "    <tr>\n",
              "      <th>max</th>\n",
              "      <td>4.992346e+18</td>\n",
              "      <td>2.894890e+04</td>\n",
              "      <td>9.992100e+04</td>\n",
              "      <td>6.669330e+01</td>\n",
              "      <td>-6.795030e+01</td>\n",
              "      <td>2.906700e+06</td>\n",
              "      <td>1.388534e+09</td>\n",
              "      <td>6.751027e+01</td>\n",
              "      <td>-6.695090e+01</td>\n",
              "      <td>1.000000e+00</td>\n",
              "      <td>1.609459e+09</td>\n",
              "      <td>2.300000e+01</td>\n",
              "      <td>3.100000e+01</td>\n",
              "      <td>6.000000e+00</td>\n",
              "      <td>1.200000e+01</td>\n",
              "    </tr>\n",
              "  </tbody>\n",
              "</table>\n",
              "</div>\n",
              "    <div class=\"colab-df-buttons\">\n",
              "\n",
              "  <div class=\"colab-df-container\">\n",
              "    <button class=\"colab-df-convert\" onclick=\"convertToInteractive('df-410f7036-eb3f-45ac-9f0d-40d7277b21e1')\"\n",
              "            title=\"Convert this dataframe to an interactive table.\"\n",
              "            style=\"display:none;\">\n",
              "\n",
              "  <svg xmlns=\"http://www.w3.org/2000/svg\" height=\"24px\" viewBox=\"0 -960 960 960\">\n",
              "    <path d=\"M120-120v-720h720v720H120Zm60-500h600v-160H180v160Zm220 220h160v-160H400v160Zm0 220h160v-160H400v160ZM180-400h160v-160H180v160Zm440 0h160v-160H620v160ZM180-180h160v-160H180v160Zm440 0h160v-160H620v160Z\"/>\n",
              "  </svg>\n",
              "    </button>\n",
              "\n",
              "  <style>\n",
              "    .colab-df-container {\n",
              "      display:flex;\n",
              "      gap: 12px;\n",
              "    }\n",
              "\n",
              "    .colab-df-convert {\n",
              "      background-color: #E8F0FE;\n",
              "      border: none;\n",
              "      border-radius: 50%;\n",
              "      cursor: pointer;\n",
              "      display: none;\n",
              "      fill: #1967D2;\n",
              "      height: 32px;\n",
              "      padding: 0 0 0 0;\n",
              "      width: 32px;\n",
              "    }\n",
              "\n",
              "    .colab-df-convert:hover {\n",
              "      background-color: #E2EBFA;\n",
              "      box-shadow: 0px 1px 2px rgba(60, 64, 67, 0.3), 0px 1px 3px 1px rgba(60, 64, 67, 0.15);\n",
              "      fill: #174EA6;\n",
              "    }\n",
              "\n",
              "    .colab-df-buttons div {\n",
              "      margin-bottom: 4px;\n",
              "    }\n",
              "\n",
              "    [theme=dark] .colab-df-convert {\n",
              "      background-color: #3B4455;\n",
              "      fill: #D2E3FC;\n",
              "    }\n",
              "\n",
              "    [theme=dark] .colab-df-convert:hover {\n",
              "      background-color: #434B5C;\n",
              "      box-shadow: 0px 1px 3px 1px rgba(0, 0, 0, 0.15);\n",
              "      filter: drop-shadow(0px 1px 2px rgba(0, 0, 0, 0.3));\n",
              "      fill: #FFFFFF;\n",
              "    }\n",
              "  </style>\n",
              "\n",
              "    <script>\n",
              "      const buttonEl =\n",
              "        document.querySelector('#df-410f7036-eb3f-45ac-9f0d-40d7277b21e1 button.colab-df-convert');\n",
              "      buttonEl.style.display =\n",
              "        google.colab.kernel.accessAllowed ? 'block' : 'none';\n",
              "\n",
              "      async function convertToInteractive(key) {\n",
              "        const element = document.querySelector('#df-410f7036-eb3f-45ac-9f0d-40d7277b21e1');\n",
              "        const dataTable =\n",
              "          await google.colab.kernel.invokeFunction('convertToInteractive',\n",
              "                                                    [key], {});\n",
              "        if (!dataTable) return;\n",
              "\n",
              "        const docLinkHtml = 'Like what you see? Visit the ' +\n",
              "          '<a target=\"_blank\" href=https://colab.research.google.com/notebooks/data_table.ipynb>data table notebook</a>'\n",
              "          + ' to learn more about interactive tables.';\n",
              "        element.innerHTML = '';\n",
              "        dataTable['output_type'] = 'display_data';\n",
              "        await google.colab.output.renderOutput(dataTable, element);\n",
              "        const docLink = document.createElement('div');\n",
              "        docLink.innerHTML = docLinkHtml;\n",
              "        element.appendChild(docLink);\n",
              "      }\n",
              "    </script>\n",
              "  </div>\n",
              "\n",
              "\n",
              "<div id=\"df-4430ac17-fd0d-4d12-9908-d372099e840b\">\n",
              "  <button class=\"colab-df-quickchart\" onclick=\"quickchart('df-4430ac17-fd0d-4d12-9908-d372099e840b')\"\n",
              "            title=\"Suggest charts.\"\n",
              "            style=\"display:none;\">\n",
              "\n",
              "<svg xmlns=\"http://www.w3.org/2000/svg\" height=\"24px\"viewBox=\"0 0 24 24\"\n",
              "     width=\"24px\">\n",
              "    <g>\n",
              "        <path d=\"M19 3H5c-1.1 0-2 .9-2 2v14c0 1.1.9 2 2 2h14c1.1 0 2-.9 2-2V5c0-1.1-.9-2-2-2zM9 17H7v-7h2v7zm4 0h-2V7h2v10zm4 0h-2v-4h2v4z\"/>\n",
              "    </g>\n",
              "</svg>\n",
              "  </button>\n",
              "\n",
              "<style>\n",
              "  .colab-df-quickchart {\n",
              "      --bg-color: #E8F0FE;\n",
              "      --fill-color: #1967D2;\n",
              "      --hover-bg-color: #E2EBFA;\n",
              "      --hover-fill-color: #174EA6;\n",
              "      --disabled-fill-color: #AAA;\n",
              "      --disabled-bg-color: #DDD;\n",
              "  }\n",
              "\n",
              "  [theme=dark] .colab-df-quickchart {\n",
              "      --bg-color: #3B4455;\n",
              "      --fill-color: #D2E3FC;\n",
              "      --hover-bg-color: #434B5C;\n",
              "      --hover-fill-color: #FFFFFF;\n",
              "      --disabled-bg-color: #3B4455;\n",
              "      --disabled-fill-color: #666;\n",
              "  }\n",
              "\n",
              "  .colab-df-quickchart {\n",
              "    background-color: var(--bg-color);\n",
              "    border: none;\n",
              "    border-radius: 50%;\n",
              "    cursor: pointer;\n",
              "    display: none;\n",
              "    fill: var(--fill-color);\n",
              "    height: 32px;\n",
              "    padding: 0;\n",
              "    width: 32px;\n",
              "  }\n",
              "\n",
              "  .colab-df-quickchart:hover {\n",
              "    background-color: var(--hover-bg-color);\n",
              "    box-shadow: 0 1px 2px rgba(60, 64, 67, 0.3), 0 1px 3px 1px rgba(60, 64, 67, 0.15);\n",
              "    fill: var(--button-hover-fill-color);\n",
              "  }\n",
              "\n",
              "  .colab-df-quickchart-complete:disabled,\n",
              "  .colab-df-quickchart-complete:disabled:hover {\n",
              "    background-color: var(--disabled-bg-color);\n",
              "    fill: var(--disabled-fill-color);\n",
              "    box-shadow: none;\n",
              "  }\n",
              "\n",
              "  .colab-df-spinner {\n",
              "    border: 2px solid var(--fill-color);\n",
              "    border-color: transparent;\n",
              "    border-bottom-color: var(--fill-color);\n",
              "    animation:\n",
              "      spin 1s steps(1) infinite;\n",
              "  }\n",
              "\n",
              "  @keyframes spin {\n",
              "    0% {\n",
              "      border-color: transparent;\n",
              "      border-bottom-color: var(--fill-color);\n",
              "      border-left-color: var(--fill-color);\n",
              "    }\n",
              "    20% {\n",
              "      border-color: transparent;\n",
              "      border-left-color: var(--fill-color);\n",
              "      border-top-color: var(--fill-color);\n",
              "    }\n",
              "    30% {\n",
              "      border-color: transparent;\n",
              "      border-left-color: var(--fill-color);\n",
              "      border-top-color: var(--fill-color);\n",
              "      border-right-color: var(--fill-color);\n",
              "    }\n",
              "    40% {\n",
              "      border-color: transparent;\n",
              "      border-right-color: var(--fill-color);\n",
              "      border-top-color: var(--fill-color);\n",
              "    }\n",
              "    60% {\n",
              "      border-color: transparent;\n",
              "      border-right-color: var(--fill-color);\n",
              "    }\n",
              "    80% {\n",
              "      border-color: transparent;\n",
              "      border-right-color: var(--fill-color);\n",
              "      border-bottom-color: var(--fill-color);\n",
              "    }\n",
              "    90% {\n",
              "      border-color: transparent;\n",
              "      border-bottom-color: var(--fill-color);\n",
              "    }\n",
              "  }\n",
              "</style>\n",
              "\n",
              "  <script>\n",
              "    async function quickchart(key) {\n",
              "      const quickchartButtonEl =\n",
              "        document.querySelector('#' + key + ' button');\n",
              "      quickchartButtonEl.disabled = true;  // To prevent multiple clicks.\n",
              "      quickchartButtonEl.classList.add('colab-df-spinner');\n",
              "      try {\n",
              "        const charts = await google.colab.kernel.invokeFunction(\n",
              "            'suggestCharts', [key], {});\n",
              "      } catch (error) {\n",
              "        console.error('Error during call to suggestCharts:', error);\n",
              "      }\n",
              "      quickchartButtonEl.classList.remove('colab-df-spinner');\n",
              "      quickchartButtonEl.classList.add('colab-df-quickchart-complete');\n",
              "    }\n",
              "    (() => {\n",
              "      let quickchartButtonEl =\n",
              "        document.querySelector('#df-4430ac17-fd0d-4d12-9908-d372099e840b button');\n",
              "      quickchartButtonEl.style.display =\n",
              "        google.colab.kernel.accessAllowed ? 'block' : 'none';\n",
              "    })();\n",
              "  </script>\n",
              "</div>\n",
              "    </div>\n",
              "  </div>\n"
            ]
          },
          "metadata": {},
          "execution_count": 39
        }
      ]
    },
    {
      "cell_type": "code",
      "source": [
        "# Create target and feature dataframes. Taking out unix_time and zip due to high correlations with other variables\n",
        "X = fraud_df[['trans_date_trans_time_unix_time', 'trans_hour', 'trans_day', 'trans_weekday', 'trans_month', 'cc_num', 'amt', 'lat', 'long', 'city_pop', 'merch_lat', 'merch_long']]\n",
        "y = fraud_df['is_fraud']"
      ],
      "metadata": {
        "id": "qIm5pRjBk9nQ"
      },
      "execution_count": 41,
      "outputs": []
    },
    {
      "cell_type": "code",
      "source": [
        "# Import the necessary scikit-learn modules for model building\n",
        "from sklearn.model_selection import train_test_split\n",
        "from sklearn.linear_model import LogisticRegression\n",
        "from sklearn import metrics"
      ],
      "metadata": {
        "id": "PJtCtgmu6tKg"
      },
      "execution_count": 42,
      "outputs": []
    },
    {
      "cell_type": "code",
      "source": [
        "# Split the dataset into training and test sets\n",
        "X_train, X_test, y_train, y_test = train_test_split(X, y, test_size=0.2, random_state=21)"
      ],
      "metadata": {
        "id": "2LkG53LVlsTv"
      },
      "execution_count": 43,
      "outputs": []
    },
    {
      "cell_type": "code",
      "source": [
        "# Train the model using logistic regression, n_jobs set to -1 so that all cores available are used\n",
        "logistic_regression = LogisticRegression(n_jobs=-1)\n",
        "logistic_regression.fit(X_train, y_train)"
      ],
      "metadata": {
        "id": "_IjjwYMvZSDb",
        "colab": {
          "base_uri": "https://localhost:8080/",
          "height": 75
        },
        "outputId": "44a106c7-105e-4ca0-f465-0eb9b5605227"
      },
      "execution_count": 44,
      "outputs": [
        {
          "output_type": "execute_result",
          "data": {
            "text/plain": [
              "LogisticRegression(n_jobs=-1)"
            ],
            "text/html": [
              "<style>#sk-container-id-1 {color: black;background-color: white;}#sk-container-id-1 pre{padding: 0;}#sk-container-id-1 div.sk-toggleable {background-color: white;}#sk-container-id-1 label.sk-toggleable__label {cursor: pointer;display: block;width: 100%;margin-bottom: 0;padding: 0.3em;box-sizing: border-box;text-align: center;}#sk-container-id-1 label.sk-toggleable__label-arrow:before {content: \"▸\";float: left;margin-right: 0.25em;color: #696969;}#sk-container-id-1 label.sk-toggleable__label-arrow:hover:before {color: black;}#sk-container-id-1 div.sk-estimator:hover label.sk-toggleable__label-arrow:before {color: black;}#sk-container-id-1 div.sk-toggleable__content {max-height: 0;max-width: 0;overflow: hidden;text-align: left;background-color: #f0f8ff;}#sk-container-id-1 div.sk-toggleable__content pre {margin: 0.2em;color: black;border-radius: 0.25em;background-color: #f0f8ff;}#sk-container-id-1 input.sk-toggleable__control:checked~div.sk-toggleable__content {max-height: 200px;max-width: 100%;overflow: auto;}#sk-container-id-1 input.sk-toggleable__control:checked~label.sk-toggleable__label-arrow:before {content: \"▾\";}#sk-container-id-1 div.sk-estimator input.sk-toggleable__control:checked~label.sk-toggleable__label {background-color: #d4ebff;}#sk-container-id-1 div.sk-label input.sk-toggleable__control:checked~label.sk-toggleable__label {background-color: #d4ebff;}#sk-container-id-1 input.sk-hidden--visually {border: 0;clip: rect(1px 1px 1px 1px);clip: rect(1px, 1px, 1px, 1px);height: 1px;margin: -1px;overflow: hidden;padding: 0;position: absolute;width: 1px;}#sk-container-id-1 div.sk-estimator {font-family: monospace;background-color: #f0f8ff;border: 1px dotted black;border-radius: 0.25em;box-sizing: border-box;margin-bottom: 0.5em;}#sk-container-id-1 div.sk-estimator:hover {background-color: #d4ebff;}#sk-container-id-1 div.sk-parallel-item::after {content: \"\";width: 100%;border-bottom: 1px solid gray;flex-grow: 1;}#sk-container-id-1 div.sk-label:hover label.sk-toggleable__label {background-color: #d4ebff;}#sk-container-id-1 div.sk-serial::before {content: \"\";position: absolute;border-left: 1px solid gray;box-sizing: border-box;top: 0;bottom: 0;left: 50%;z-index: 0;}#sk-container-id-1 div.sk-serial {display: flex;flex-direction: column;align-items: center;background-color: white;padding-right: 0.2em;padding-left: 0.2em;position: relative;}#sk-container-id-1 div.sk-item {position: relative;z-index: 1;}#sk-container-id-1 div.sk-parallel {display: flex;align-items: stretch;justify-content: center;background-color: white;position: relative;}#sk-container-id-1 div.sk-item::before, #sk-container-id-1 div.sk-parallel-item::before {content: \"\";position: absolute;border-left: 1px solid gray;box-sizing: border-box;top: 0;bottom: 0;left: 50%;z-index: -1;}#sk-container-id-1 div.sk-parallel-item {display: flex;flex-direction: column;z-index: 1;position: relative;background-color: white;}#sk-container-id-1 div.sk-parallel-item:first-child::after {align-self: flex-end;width: 50%;}#sk-container-id-1 div.sk-parallel-item:last-child::after {align-self: flex-start;width: 50%;}#sk-container-id-1 div.sk-parallel-item:only-child::after {width: 0;}#sk-container-id-1 div.sk-dashed-wrapped {border: 1px dashed gray;margin: 0 0.4em 0.5em 0.4em;box-sizing: border-box;padding-bottom: 0.4em;background-color: white;}#sk-container-id-1 div.sk-label label {font-family: monospace;font-weight: bold;display: inline-block;line-height: 1.2em;}#sk-container-id-1 div.sk-label-container {text-align: center;}#sk-container-id-1 div.sk-container {/* jupyter's `normalize.less` sets `[hidden] { display: none; }` but bootstrap.min.css set `[hidden] { display: none !important; }` so we also need the `!important` here to be able to override the default hidden behavior on the sphinx rendered scikit-learn.org. See: https://github.com/scikit-learn/scikit-learn/issues/21755 */display: inline-block !important;position: relative;}#sk-container-id-1 div.sk-text-repr-fallback {display: none;}</style><div id=\"sk-container-id-1\" class=\"sk-top-container\"><div class=\"sk-text-repr-fallback\"><pre>LogisticRegression(n_jobs=-1)</pre><b>In a Jupyter environment, please rerun this cell to show the HTML representation or trust the notebook. <br />On GitHub, the HTML representation is unable to render, please try loading this page with nbviewer.org.</b></div><div class=\"sk-container\" hidden><div class=\"sk-item\"><div class=\"sk-estimator sk-toggleable\"><input class=\"sk-toggleable__control sk-hidden--visually\" id=\"sk-estimator-id-1\" type=\"checkbox\" checked><label for=\"sk-estimator-id-1\" class=\"sk-toggleable__label sk-toggleable__label-arrow\">LogisticRegression</label><div class=\"sk-toggleable__content\"><pre>LogisticRegression(n_jobs=-1)</pre></div></div></div></div></div>"
            ]
          },
          "metadata": {},
          "execution_count": 44
        }
      ]
    },
    {
      "cell_type": "code",
      "source": [
        "# Predict fraud using the newly created model on the test set for comparison\n",
        "y_pred = logistic_regression.predict(X_test)"
      ],
      "metadata": {
        "id": "z1BvVQF2lxav"
      },
      "execution_count": 45,
      "outputs": []
    },
    {
      "cell_type": "code",
      "source": [
        "# Evaluate the results\n",
        "print(metrics.accuracy_score(y_test, y_pred))"
      ],
      "metadata": {
        "colab": {
          "base_uri": "https://localhost:8080/"
        },
        "id": "ItWZtjROl8JL",
        "outputId": "ae3d66ea-0d03-4efd-fca6-d19a3bef6755"
      },
      "execution_count": 46,
      "outputs": [
        {
          "output_type": "stream",
          "name": "stdout",
          "text": [
            "0.9949281875625879\n"
          ]
        }
      ]
    },
    {
      "cell_type": "code",
      "source": [
        "# Print a confusion matrix\n",
        "fraud_confusion_matrix = metrics.confusion_matrix(y_test, y_pred)\n",
        "sns.heatmap(fraud_confusion_matrix, annot=True, annot_kws={'size': 10}, cmap='vlag', fmt='g')\n",
        "plt.ylabel('Actual')\n",
        "plt.xlabel('Predicted')\n",
        "plt.show()"
      ],
      "metadata": {
        "colab": {
          "base_uri": "https://localhost:8080/",
          "height": 449
        },
        "id": "zDo8I6Sfl93p",
        "outputId": "3b8764cf-c635-49fd-f369-cf764cbbb674"
      },
      "execution_count": 47,
      "outputs": [
        {
          "output_type": "display_data",
          "data": {
            "text/plain": [
              "<Figure size 640x480 with 2 Axes>"
            ],
            "image/png": "[encoded data removed]"
          },
          "metadata": {}
        }
      ]
    },
    {
      "cell_type": "code",
      "source": [
        "# Logistic regression using the statsmodels module\n",
        "import statsmodels.api as sm"
      ],
      "metadata": {
        "id": "y5kmufyumALG"
      },
      "execution_count": 48,
      "outputs": []
    },
    {
      "cell_type": "code",
      "source": [
        "# Fitting the model (adding the constant to X in one line so as to keep X as it is)\n",
        "logit_model = sm.Logit(y_train, sm.add_constant(X_train))\n",
        "result = logit_model.fit()"
      ],
      "metadata": {
        "colab": {
          "base_uri": "https://localhost:8080/"
        },
        "id": "BY_z7Msbt-jl",
        "outputId": "cc294236-19b0-462c-b8d4-e04cffafeaa7"
      },
      "execution_count": 49,
      "outputs": [
        {
          "output_type": "stream",
          "name": "stdout",
          "text": [
            "Optimization terminated successfully.\n",
            "         Current function value: 0.029655\n",
            "         Iterations 10\n"
          ]
        }
      ]
    },
    {
      "cell_type": "code",
      "source": [
        "# Summarize the result\n",
        "print(result.summary())"
      ],
      "metadata": {
        "colab": {
          "base_uri": "https://localhost:8080/"
        },
        "id": "a4KqeE-UuAjL",
        "outputId": "6ca66937-1d1b-4a54-e743-b1dc6d01012c"
      },
      "execution_count": 50,
      "outputs": [
        {
          "output_type": "stream",
          "name": "stdout",
          "text": [
            "                           Logit Regression Results                           \n",
            "==============================================================================\n",
            "Dep. Variable:               is_fraud   No. Observations:              1481915\n",
            "Model:                          Logit   Df Residuals:                  1481902\n",
            "Method:                           MLE   Df Model:                           12\n",
            "Date:                Sun, 01 Oct 2023   Pseudo R-squ.:                 0.09498\n",
            "Time:                        23:25:27   Log-Likelihood:                -43947.\n",
            "converged:                       True   LL-Null:                       -48559.\n",
            "Covariance Type:            nonrobust   LLR p-value:                     0.000\n",
            "===================================================================================================\n",
            "                                      coef    std err          z      P>|z|      [0.025      0.975]\n",
            "---------------------------------------------------------------------------------------------------\n",
            "const                               2.8644      1.183      2.422      0.015       0.547       5.182\n",
            "trans_date_trans_time_unix_time -5.415e-09   7.54e-10     -7.184      0.000   -6.89e-09   -3.94e-09\n",
            "trans_hour                          0.0215      0.002     12.141      0.000       0.018       0.025\n",
            "trans_day                           0.0001      0.001      0.099      0.921      -0.002       0.003\n",
            "trans_weekday                       0.0286      0.005      5.272      0.000       0.018       0.039\n",
            "trans_month                        -0.0593      0.004    -14.876      0.000      -0.067      -0.052\n",
            "cc_num                          -1.148e-20   9.28e-21     -1.237      0.216   -2.97e-20    6.71e-21\n",
            "amt                                 0.0024   2.85e-05     85.289      0.000       0.002       0.002\n",
            "lat                                 0.0396      0.021      1.917      0.055      -0.001       0.080\n",
            "long                                0.0199      0.021      0.968      0.333      -0.020       0.060\n",
            "city_pop                         5.307e-09   3.94e-08      0.135      0.893   -7.19e-08    8.25e-08\n",
            "merch_lat                          -0.0319      0.021     -1.555      0.120      -0.072       0.008\n",
            "merch_long                         -0.0181      0.021     -0.883      0.377      -0.058       0.022\n",
            "===================================================================================================\n"
          ]
        }
      ]
    },
    {
      "cell_type": "code",
      "source": [
        "# Try second model with anything higher than a P-value of 0.05 dropped\n",
        "\n",
        "X_train2 = X_train.drop(['trans_day', 'cc_num', 'lat', 'long', 'city_pop', 'merch_lat', 'merch_long'], axis=1)\n",
        "\n",
        "logit_model2 = sm.Logit(y_train, sm.add_constant(X_train2))\n",
        "result2 = logit_model2.fit()"
      ],
      "metadata": {
        "colab": {
          "base_uri": "https://localhost:8080/"
        },
        "id": "ebMJNmPLkGdl",
        "outputId": "dadce3f6-6266-4627-bc20-4de172d652a6"
      },
      "execution_count": 54,
      "outputs": [
        {
          "output_type": "stream",
          "name": "stdout",
          "text": [
            "Optimization terminated successfully.\n",
            "         Current function value: 0.029662\n",
            "         Iterations 10\n"
          ]
        }
      ]
    },
    {
      "cell_type": "code",
      "source": [
        "# Summarize the new result\n",
        "print(result2.summary())"
      ],
      "metadata": {
        "colab": {
          "base_uri": "https://localhost:8080/"
        },
        "id": "ML2kpbUVkqy7",
        "outputId": "97896e81-55d7-493b-8a22-70e88ee4ef78"
      },
      "execution_count": 55,
      "outputs": [
        {
          "output_type": "stream",
          "name": "stdout",
          "text": [
            "                           Logit Regression Results                           \n",
            "==============================================================================\n",
            "Dep. Variable:               is_fraud   No. Observations:              1481915\n",
            "Model:                          Logit   Df Residuals:                  1481909\n",
            "Method:                           MLE   Df Model:                            5\n",
            "Date:                Sun, 01 Oct 2023   Pseudo R-squ.:                 0.09478\n",
            "Time:                        23:31:00   Log-Likelihood:                -43957.\n",
            "converged:                       True   LL-Null:                       -48559.\n",
            "Covariance Type:            nonrobust   LLR p-value:                     0.000\n",
            "===================================================================================================\n",
            "                                      coef    std err          z      P>|z|      [0.025      0.975]\n",
            "---------------------------------------------------------------------------------------------------\n",
            "const                               2.9998      1.176      2.551      0.011       0.695       5.305\n",
            "trans_date_trans_time_unix_time -5.414e-09   7.53e-10     -7.189      0.000   -6.89e-09   -3.94e-09\n",
            "trans_hour                          0.0215      0.002     12.116      0.000       0.018       0.025\n",
            "trans_weekday                       0.0286      0.005      5.272      0.000       0.018       0.039\n",
            "trans_month                        -0.0593      0.004    -14.881      0.000      -0.067      -0.052\n",
            "amt                                 0.0024   2.85e-05     85.245      0.000       0.002       0.002\n",
            "===================================================================================================\n"
          ]
        }
      ]
    }
  ]
}